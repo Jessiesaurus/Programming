{
 "cells": [
  {
   "cell_type": "code",
   "execution_count": 1,
   "metadata": {},
   "outputs": [],
   "source": [
    "def Palindromo(palabra):\n",
    "    i = 0\n",
    "    while i <= len(palabra) / 2:\n",
    "        if palabra[i] != palabra[-i - 1]:\n",
    "            return False\n",
    "        i += 1\n",
    "    return True"
   ]
  },
  {
   "cell_type": "code",
   "execution_count": 2,
   "metadata": {},
   "outputs": [
    {
     "name": "stdout",
     "output_type": "stream",
     "text": [
      "Digite una palabra: reconocer\n",
      "True=Palindromo, False=No palindromo. La respuesta es: True\n"
     ]
    }
   ],
   "source": [
    "palabra=input(\"Digite una palabra: \")\n",
    "print(\"True=Palindromo, False=No palindromo. La respuesta es:\", Palindromo(palabra))"
   ]
  }
 ],
 "metadata": {
  "kernelspec": {
   "display_name": "Python 3",
   "language": "python",
   "name": "python3"
  },
  "language_info": {
   "codemirror_mode": {
    "name": "ipython",
    "version": 3
   },
   "file_extension": ".py",
   "mimetype": "text/x-python",
   "name": "python",
   "nbconvert_exporter": "python",
   "pygments_lexer": "ipython3",
   "version": "3.9.1"
  }
 },
 "nbformat": 4,
 "nbformat_minor": 4
}
