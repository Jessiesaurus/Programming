{
 "cells": [
  {
   "cell_type": "code",
   "execution_count": 1,
   "metadata": {},
   "outputs": [],
   "source": [
    "def primeraLetra(palabra):\n",
    "    return palabra[0]\n",
    "def ultimaLetra(palabra):\n",
    "    return palabra[-1]"
   ]
  },
  {
   "cell_type": "code",
   "execution_count": 2,
   "metadata": {},
   "outputs": [
    {
     "name": "stdout",
     "output_type": "stream",
     "text": [
      "Digite la palabra Putoelquelolea\n",
      "La primera letra de la palabra ingresada es P y la última letra es a\n"
     ]
    }
   ],
   "source": [
    "palabra=input (\"Digite la palabra \")\n",
    "print(\"La primera letra de la palabra ingresada es\", primeraLetra(palabra), \"y la última letra es\", ultimaLetra(palabra))"
   ]
  }
 ],
 "metadata": {
  "kernelspec": {
   "display_name": "Python 3",
   "language": "python",
   "name": "python3"
  },
  "language_info": {
   "codemirror_mode": {
    "name": "ipython",
    "version": 3
   },
   "file_extension": ".py",
   "mimetype": "text/x-python",
   "name": "python",
   "nbconvert_exporter": "python",
   "pygments_lexer": "ipython3",
   "version": "3.9.1"
  }
 },
 "nbformat": 4,
 "nbformat_minor": 4
}
