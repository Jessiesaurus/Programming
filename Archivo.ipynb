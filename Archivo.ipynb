{
 "cells": [
  {
   "cell_type": "code",
   "execution_count": 8,
   "metadata": {},
   "outputs": [],
   "source": [
    "import re\n",
    "def main():\n",
    "    f=open('historia.txt','r')\n",
    "    if f.mode=='r':\n",
    "        contents =f.read()\n",
    "        palabras=contents.split()\n",
    "        puntos=contents.split(\".\")\n",
    "        comas=contents.split(\",\")\n",
    "        numP=len(palabras)\n",
    "        pun=len(puntos)-1\n",
    "        com=len(comas)-1\n",
    "        a=str(numP)\n",
    "    fn=open('historia_salida.txt','w')    \n",
    "    fn.write('Palabras:')\n",
    "    fn.write(str(numP))\n",
    "    fn.write('\\nCaracteres:')\n",
    "    fn.write(str(pun+com))\n",
    "    fn.write('\\nSentencias:')\n",
    "    fn.write(str(pun+com))\n",
    "    f.close()\n",
    "    fn.close()"
   ]
  },
  {
   "cell_type": "code",
   "execution_count": 9,
   "metadata": {},
   "outputs": [],
   "source": [
    "main()"
   ]
  }
 ],
 "metadata": {
  "kernelspec": {
   "display_name": "Python 3",
   "language": "python",
   "name": "python3"
  },
  "language_info": {
   "codemirror_mode": {
    "name": "ipython",
    "version": 3
   },
   "file_extension": ".py",
   "mimetype": "text/x-python",
   "name": "python",
   "nbconvert_exporter": "python",
   "pygments_lexer": "ipython3",
   "version": "3.9.1"
  }
 },
 "nbformat": 4,
 "nbformat_minor": 4
}
