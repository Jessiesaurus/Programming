{
 "cells": [
  {
   "cell_type": "code",
   "execution_count": 1,
   "metadata": {},
   "outputs": [],
   "source": [
    "def PicoYPlaca(diaM, diaS):\n",
    "    if diaM==1 or diaM==3 or diaM==5 or diaM==7 or diaM==9:\n",
    "        print(\"Las placas terminadas en 0,2,4,6,8 tienen pico y placa\")\n",
    "        \n",
    "    elif diaM==0 or diaM==2 or diaM==4 or diaM==6 or diaM==8:\n",
    "        print(\"Las placas terminadas en 1,3,5,7,9 tienen pico y placa\")"
   ]
  },
  {
   "cell_type": "code",
   "execution_count": 2,
   "metadata": {},
   "outputs": [
    {
     "name": "stdout",
     "output_type": "stream",
     "text": [
      "Ingresa el día del mes 1\n",
      "Ingresa el día de la semana l\n",
      "Las placas terminadas en 0,2,4,6,8 tienen pico y placa\n"
     ]
    }
   ],
   "source": [
    "diaM=int(input (\"Ingresa el día del mes \"))\n",
    "diaS=input(\"Ingresa el día de la semana \")\n",
    "PicoYPlaca(diaM, diaS)"
   ]
  }
 ],
 "metadata": {
  "kernelspec": {
   "display_name": "Python 3",
   "language": "python",
   "name": "python3"
  },
  "language_info": {
   "codemirror_mode": {
    "name": "ipython",
    "version": 3
   },
   "file_extension": ".py",
   "mimetype": "text/x-python",
   "name": "python",
   "nbconvert_exporter": "python",
   "pygments_lexer": "ipython3",
   "version": "3.9.1"
  }
 },
 "nbformat": 4,
 "nbformat_minor": 4
}
