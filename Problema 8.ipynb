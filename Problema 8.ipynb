{
 "cells": [
  {
   "cell_type": "code",
   "execution_count": 1,
   "metadata": {},
   "outputs": [],
   "source": [
    "def Multiplos (LI,LS,numero):\n",
    "    if numero>=LI and numero<=LS:\n",
    "        print('El número ingresado está dentro del rango')\n",
    "        num=2\n",
    "        i=0\n",
    "        multiplo=numero*num\n",
    "        while multiplo>=LI and multiplo<=LS:\n",
    "            multiplo=numero*num\n",
    "            num=num+1\n",
    "            i=i+1\n",
    "        print(i)\n",
    "    else:\n",
    "        print('El número ingresado no está dentro del rango')"
   ]
  },
  {
   "cell_type": "code",
   "execution_count": null,
   "metadata": {},
   "outputs": [],
   "source": [
    "LI=int(input(\"Ingresa el límite inferior: \"))\n",
    "LS=int(input(\"Ingresa el límite superior: \"))\n",
    "numero=int(input(\"Ingresa número: \"))\n",
    "Multiplos (LI,LS,numero)"
   ]
  }
 ],
 "metadata": {
  "kernelspec": {
   "display_name": "Python 3",
   "language": "python",
   "name": "python3"
  },
  "language_info": {
   "codemirror_mode": {
    "name": "ipython",
    "version": 3
   },
   "file_extension": ".py",
   "mimetype": "text/x-python",
   "name": "python",
   "nbconvert_exporter": "python",
   "pygments_lexer": "ipython3",
   "version": "3.9.1"
  }
 },
 "nbformat": 4,
 "nbformat_minor": 4
}
