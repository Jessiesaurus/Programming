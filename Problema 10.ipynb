{
 "cells": [
  {
   "cell_type": "code",
   "execution_count": 1,
   "metadata": {},
   "outputs": [],
   "source": [
    "import random\n",
    "\n",
    "def Adivinanza(numero):\n",
    "    if(numero==x):\n",
    "        print(\"Brujería\")\n",
    "    if(numero<x):\n",
    "        print(\"El número ingresado es menor\")\n",
    "    elif(numero>x):\n",
    "        print(\"El número ingresado es mayor\")"
   ]
  },
  {
   "cell_type": "code",
   "execution_count": 2,
   "metadata": {},
   "outputs": [
    {
     "name": "stdout",
     "output_type": "stream",
     "text": [
      "Ingresa un número3\n",
      "El número ingresado es menor\n",
      "Ingresa un número5\n",
      "El número ingresado es menor\n",
      "Ingresa un número6\n",
      "El número ingresado es menor\n",
      "Ingresa un número7\n",
      "Brujería\n"
     ]
    }
   ],
   "source": [
    " x=random.randrange(10)\n",
    "numero=0\n",
    "while(numero != x):\n",
    "    numero=int(input(\"Ingresa un número: \"))\n",
    "    Adivinanza(numero)"
   ]
  }
 ],
 "metadata": {
  "kernelspec": {
   "display_name": "Python 3",
   "language": "python",
   "name": "python3"
  },
  "language_info": {
   "codemirror_mode": {
    "name": "ipython",
    "version": 3
   },
   "file_extension": ".py",
   "mimetype": "text/x-python",
   "name": "python",
   "nbconvert_exporter": "python",
   "pygments_lexer": "ipython3",
   "version": "3.9.1"
  }
 },
 "nbformat": 4,
 "nbformat_minor": 4
}
