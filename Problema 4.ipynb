{
 "cells": [
  {
   "cell_type": "code",
   "execution_count": 1,
   "metadata": {},
   "outputs": [],
   "source": [
    "def descuento(precio,dia): \n",
    "    if dia==\"l\":\n",
    "        return precio-(precio*0.1)\n",
    "        \n",
    "    elif dia==\"m\":\n",
    "        return precio-(precio*0.05)\n",
    "        \n",
    "    elif dia==\"M\":\n",
    "        return precio-(precio*0.03)\n",
    "        \n",
    "    elif dia==\"j\":\n",
    "        return precio-(precio*0.01)\n",
    "        \n",
    "    elif dia==\"v\":\n",
    "        return precio-(precio*0.07)\n",
    "    \n",
    "    elif dia==\"s\":\n",
    "        return precio-(precio*0)\n",
    "        \n",
    "    elif dia==\"d\":\n",
    "        return precio-(precio*0.01)"
   ]
  },
  {
   "cell_type": "code",
   "execution_count": 2,
   "metadata": {},
   "outputs": [
    {
     "name": "stdout",
     "output_type": "stream",
     "text": [
      "Digite el precio 3000\n",
      "Digite el día j\n",
      "El descuento es de:  2970.0\n"
     ]
    }
   ],
   "source": [
    "precio=int (input(\"Digite el precio \"))\n",
    "dia=input(\"Digite el día \")\n",
    "print(\"El descuento es de: \", descuento(precio,dia))"
   ]
  }
 ],
 "metadata": {
  "kernelspec": {
   "display_name": "Python 3",
   "language": "python",
   "name": "python3"
  },
  "language_info": {
   "codemirror_mode": {
    "name": "ipython",
    "version": 3
   },
   "file_extension": ".py",
   "mimetype": "text/x-python",
   "name": "python",
   "nbconvert_exporter": "python",
   "pygments_lexer": "ipython3",
   "version": "3.9.1"
  }
 },
 "nbformat": 4,
 "nbformat_minor": 4
}
