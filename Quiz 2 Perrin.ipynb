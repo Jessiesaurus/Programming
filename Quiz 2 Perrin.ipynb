{
 "cells": [
  {
   "cell_type": "markdown",
   "metadata": {},
   "source": [
    "# Quiz 2"
   ]
  },
  {
   "cell_type": "markdown",
   "metadata": {},
   "source": [
    "## Usando recursion, encontrar los primeros 20 números de la Sucesión de Perrin"
   ]
  },
  {
   "cell_type": "markdown",
   "metadata": {},
   "source": [
    "<a href=\"https://es.wikipedia.org/wiki/N%C3%BAmero_de_Perrin#:~:text=En%20matem%C3%A1ticas%2C%20los%20n%C3%BAmeros%20de,P(2)%20%3D%202%2C&text=P(n)%20%3D%20P(,3)%20si%20n%20%3E%202.\">Wikipedia Explicacion</a>\n",
    "\n",
    "<a href=\"https://oeis.org/A001608\">Algunos número de la Sucesión de Perrin</a>"
   ]
  },
  {
   "cell_type": "code",
   "execution_count": 1,
   "metadata": {},
   "outputs": [],
   "source": [
    "def perrin(n):\n",
    "    lista = []\n",
    "    if n == 0:\n",
    "        return 3\n",
    "    elif n == 1:\n",
    "        return 0\n",
    "    elif n == 2:\n",
    "        return 2\n",
    "    else:\n",
    "        return perrin(n-2)+perrin(n-3)"
   ]
  },
  {
   "cell_type": "code",
   "execution_count": 9,
   "metadata": {},
   "outputs": [
    {
     "name": "stdout",
     "output_type": "stream",
     "text": [
      "Ingresa el número de números que quiere ver de la secuencia de Perrin: 10\n"
     ]
    },
    {
     "data": {
      "text/plain": [
       "[(0, 3),\n",
       " (1, 0),\n",
       " (2, 2),\n",
       " (3, 3),\n",
       " (4, 2),\n",
       " (5, 5),\n",
       " (6, 5),\n",
       " (7, 7),\n",
       " (8, 10),\n",
       " (9, 12),\n",
       " (10, 17)]"
      ]
     },
     "execution_count": 9,
     "metadata": {},
     "output_type": "execute_result"
    }
   ],
   "source": [
    "n=int(input(\"Ingresa el número de números que quiere ver de la secuencia de Perrin: \"))\n",
    "lista=[((i,perrin(i))) for i in range(n+1)]\n",
    "lista"
   ]
  },
  {
   "cell_type": "code",
   "execution_count": null,
   "metadata": {},
   "outputs": [],
   "source": []
  }
 ],
 "metadata": {
  "kernelspec": {
   "display_name": "Python 3",
   "language": "python",
   "name": "python3"
  },
  "language_info": {
   "codemirror_mode": {
    "name": "ipython",
    "version": 3
   },
   "file_extension": ".py",
   "mimetype": "text/x-python",
   "name": "python",
   "nbconvert_exporter": "python",
   "pygments_lexer": "ipython3",
   "version": "3.9.1"
  }
 },
 "nbformat": 4,
 "nbformat_minor": 2
}
