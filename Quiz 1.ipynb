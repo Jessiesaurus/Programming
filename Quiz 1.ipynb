{
 "cells": [
  {
   "cell_type": "markdown",
   "metadata": {},
   "source": [
    "# Quiz 1"
   ]
  },
  {
   "cell_type": "markdown",
   "metadata": {},
   "source": [
    "## Usando compresion de listas, desarrolle la siguiente figura en dos lineas"
   ]
  },
  {
   "cell_type": "code",
   "execution_count": 14,
   "metadata": {},
   "outputs": [
    {
     "name": "stdout",
     "output_type": "stream",
     "text": [
      "                        *                         \n",
      "                       ***                        \n",
      "                      *****                       \n",
      "                     *******                      \n",
      "                    *********                     \n",
      "                   ***********                    \n",
      "                  *************                   \n",
      "                 ***************                  \n",
      "                *****************                 \n",
      "               *******************                \n",
      "              *********************               \n",
      "             ***********************              \n",
      "            *************************             \n",
      "           ***************************            \n",
      "          *****************************           \n",
      "                   |||||||||                   \n",
      "                   |||||||||                   \n",
      "                   |||||||||                   \n"
     ]
    }
   ],
   "source": [
    "tree=[print(((2*i+1)*\"*\").center(50,\" \")) for i in range (15)]\n",
    "foots=[print((9*\"|\").center(47,\" \")) for i in range (3)]"
   ]
  },
  {
   "cell_type": "code",
   "execution_count": null,
   "metadata": {},
   "outputs": [],
   "source": []
  }
 ],
 "metadata": {
  "kernelspec": {
   "display_name": "Python 3",
   "language": "python",
   "name": "python3"
  },
  "language_info": {
   "codemirror_mode": {
    "name": "ipython",
    "version": 3
   },
   "file_extension": ".py",
   "mimetype": "text/x-python",
   "name": "python",
   "nbconvert_exporter": "python",
   "pygments_lexer": "ipython3",
   "version": "3.9.1"
  }
 },
 "nbformat": 4,
 "nbformat_minor": 2
}
